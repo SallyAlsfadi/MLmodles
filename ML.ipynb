{
  "nbformat": 4,
  "nbformat_minor": 0,
  "metadata": {
    "colab": {
      "provenance": [],
      "authorship_tag": "ABX9TyPv52K0bJfXN76/2A0wEIPg",
      "include_colab_link": true
    },
    "kernelspec": {
      "name": "python3",
      "display_name": "Python 3"
    },
    "language_info": {
      "name": "python"
    }
  },
  "cells": [
    {
      "cell_type": "markdown",
      "metadata": {
        "id": "view-in-github",
        "colab_type": "text"
      },
      "source": [
        "<a href=\"https://colab.research.google.com/github/SallyAlsfadi/MLmodles/blob/main/ML.ipynb\" target=\"_parent\"><img src=\"https://colab.research.google.com/assets/colab-badge.svg\" alt=\"Open In Colab\"/></a>"
      ]
    },
    {
      "cell_type": "markdown",
      "source": [
        "# Breast Cancer Dataset"
      ],
      "metadata": {
        "id": "t_B2WCxJyQp9"
      }
    },
    {
      "cell_type": "markdown",
      "source": [
        "The dataset contains 30 numerical attributes (features) that describe the tumor characteristics, and the goal is to develop machine learning models to predict the diagnosis."
      ],
      "metadata": {
        "id": "MzPI91RZ22yY"
      }
    },
    {
      "cell_type": "markdown",
      "source": [
        "he task is to classify the tumors as either malignant (M) or benign (B)."
      ],
      "metadata": {
        "id": "ExrZTL8E25cd"
      }
    },
    {
      "cell_type": "markdown",
      "source": [
        " **Dataset Loading**\n",
        "We will load the dataset using the ucimlrepo library"
      ],
      "metadata": {
        "id": "LHjTbkWB3Leo"
      }
    },
    {
      "cell_type": "code",
      "source": [
        "from ucimlrepo import fetch_ucirepo\n",
        "\n",
        "\n",
        "breast_cancer_wisconsin_diagnostic = fetch_ucirepo(id=17)\n",
        "\n",
        "\n",
        "X = breast_cancer_wisconsin_diagnostic.data.features\n",
        "y = breast_cancer_wisconsin_diagnostic.data.targets\n",
        "\n",
        "print(breast_cancer_wisconsin_diagnostic.metadata)\n",
        "print(breast_cancer_wisconsin_diagnostic.variables)\n"
      ],
      "metadata": {
        "colab": {
          "base_uri": "https://localhost:8080/"
        },
        "id": "MXZkj1GV3HvD",
        "outputId": "1ebe0fa0-382c-4a0d-8d52-f538c180cd23"
      },
      "execution_count": null,
      "outputs": [
        {
          "output_type": "stream",
          "name": "stdout",
          "text": [
            "{'uci_id': 17, 'name': 'Breast Cancer Wisconsin (Diagnostic)', 'repository_url': 'https://archive.ics.uci.edu/dataset/17/breast+cancer+wisconsin+diagnostic', 'data_url': 'https://archive.ics.uci.edu/static/public/17/data.csv', 'abstract': 'Diagnostic Wisconsin Breast Cancer Database.', 'area': 'Health and Medicine', 'tasks': ['Classification'], 'characteristics': ['Multivariate'], 'num_instances': 569, 'num_features': 30, 'feature_types': ['Real'], 'demographics': [], 'target_col': ['Diagnosis'], 'index_col': ['ID'], 'has_missing_values': 'no', 'missing_values_symbol': None, 'year_of_dataset_creation': 1993, 'last_updated': 'Fri Nov 03 2023', 'dataset_doi': '10.24432/C5DW2B', 'creators': ['William Wolberg', 'Olvi Mangasarian', 'Nick Street', 'W. Street'], 'intro_paper': {'ID': 230, 'type': 'NATIVE', 'title': 'Nuclear feature extraction for breast tumor diagnosis', 'authors': 'W. Street, W. Wolberg, O. Mangasarian', 'venue': 'Electronic imaging', 'year': 1993, 'journal': None, 'DOI': '10.1117/12.148698', 'URL': 'https://www.semanticscholar.org/paper/53f0fbb425bc14468eb3bf96b2e1d41ba8087f36', 'sha': None, 'corpus': None, 'arxiv': None, 'mag': None, 'acl': None, 'pmid': None, 'pmcid': None}, 'additional_info': {'summary': 'Features are computed from a digitized image of a fine needle aspirate (FNA) of a breast mass.  They describe characteristics of the cell nuclei present in the image. A few of the images can be found at http://www.cs.wisc.edu/~street/images/\\r\\n\\r\\nSeparating plane described above was obtained using Multisurface Method-Tree (MSM-T) [K. P. Bennett, \"Decision Tree Construction Via Linear Programming.\" Proceedings of the 4th Midwest Artificial Intelligence and Cognitive Science Society, pp. 97-101, 1992], a classification method which uses linear programming to construct a decision tree.  Relevant features were selected using an exhaustive search in the space of 1-4 features and 1-3 separating planes.\\r\\n\\r\\nThe actual linear program used to obtain the separating plane in the 3-dimensional space is that described in: [K. P. Bennett and O. L. Mangasarian: \"Robust Linear Programming Discrimination of Two Linearly Inseparable Sets\", Optimization Methods and Software 1, 1992, 23-34].\\r\\n\\r\\nThis database is also available through the UW CS ftp server:\\r\\nftp ftp.cs.wisc.edu\\r\\ncd math-prog/cpo-dataset/machine-learn/WDBC/', 'purpose': None, 'funded_by': None, 'instances_represent': None, 'recommended_data_splits': None, 'sensitive_data': None, 'preprocessing_description': None, 'variable_info': '1) ID number\\r\\n2) Diagnosis (M = malignant, B = benign)\\r\\n3-32)\\r\\n\\r\\nTen real-valued features are computed for each cell nucleus:\\r\\n\\r\\n\\ta) radius (mean of distances from center to points on the perimeter)\\r\\n\\tb) texture (standard deviation of gray-scale values)\\r\\n\\tc) perimeter\\r\\n\\td) area\\r\\n\\te) smoothness (local variation in radius lengths)\\r\\n\\tf) compactness (perimeter^2 / area - 1.0)\\r\\n\\tg) concavity (severity of concave portions of the contour)\\r\\n\\th) concave points (number of concave portions of the contour)\\r\\n\\ti) symmetry \\r\\n\\tj) fractal dimension (\"coastline approximation\" - 1)', 'citation': None}}\n",
            "                  name     role         type demographic description units  \\\n",
            "0                   ID       ID  Categorical        None        None  None   \n",
            "1            Diagnosis   Target  Categorical        None        None  None   \n",
            "2              radius1  Feature   Continuous        None        None  None   \n",
            "3             texture1  Feature   Continuous        None        None  None   \n",
            "4           perimeter1  Feature   Continuous        None        None  None   \n",
            "5                area1  Feature   Continuous        None        None  None   \n",
            "6          smoothness1  Feature   Continuous        None        None  None   \n",
            "7         compactness1  Feature   Continuous        None        None  None   \n",
            "8           concavity1  Feature   Continuous        None        None  None   \n",
            "9      concave_points1  Feature   Continuous        None        None  None   \n",
            "10           symmetry1  Feature   Continuous        None        None  None   \n",
            "11  fractal_dimension1  Feature   Continuous        None        None  None   \n",
            "12             radius2  Feature   Continuous        None        None  None   \n",
            "13            texture2  Feature   Continuous        None        None  None   \n",
            "14          perimeter2  Feature   Continuous        None        None  None   \n",
            "15               area2  Feature   Continuous        None        None  None   \n",
            "16         smoothness2  Feature   Continuous        None        None  None   \n",
            "17        compactness2  Feature   Continuous        None        None  None   \n",
            "18          concavity2  Feature   Continuous        None        None  None   \n",
            "19     concave_points2  Feature   Continuous        None        None  None   \n",
            "20           symmetry2  Feature   Continuous        None        None  None   \n",
            "21  fractal_dimension2  Feature   Continuous        None        None  None   \n",
            "22             radius3  Feature   Continuous        None        None  None   \n",
            "23            texture3  Feature   Continuous        None        None  None   \n",
            "24          perimeter3  Feature   Continuous        None        None  None   \n",
            "25               area3  Feature   Continuous        None        None  None   \n",
            "26         smoothness3  Feature   Continuous        None        None  None   \n",
            "27        compactness3  Feature   Continuous        None        None  None   \n",
            "28          concavity3  Feature   Continuous        None        None  None   \n",
            "29     concave_points3  Feature   Continuous        None        None  None   \n",
            "30           symmetry3  Feature   Continuous        None        None  None   \n",
            "31  fractal_dimension3  Feature   Continuous        None        None  None   \n",
            "\n",
            "   missing_values  \n",
            "0              no  \n",
            "1              no  \n",
            "2              no  \n",
            "3              no  \n",
            "4              no  \n",
            "5              no  \n",
            "6              no  \n",
            "7              no  \n",
            "8              no  \n",
            "9              no  \n",
            "10             no  \n",
            "11             no  \n",
            "12             no  \n",
            "13             no  \n",
            "14             no  \n",
            "15             no  \n",
            "16             no  \n",
            "17             no  \n",
            "18             no  \n",
            "19             no  \n",
            "20             no  \n",
            "21             no  \n",
            "22             no  \n",
            "23             no  \n",
            "24             no  \n",
            "25             no  \n",
            "26             no  \n",
            "27             no  \n",
            "28             no  \n",
            "29             no  \n",
            "30             no  \n",
            "31             no  \n"
          ]
        }
      ]
    },
    {
      "cell_type": "markdown",
      "source": [
        "**Features**: 30 numerical attributes such as radius, texture, perimeter, area, etc.\n",
        "\n",
        "**Target Variable**: The Diagnosis column, where M represents malignant tumors and B represents benign tumors"
      ],
      "metadata": {
        "id": "InHgw7MJ3ZcD"
      }
    },
    {
      "cell_type": "code",
      "source": [
        "print(X.head())\n",
        "print(y.head())"
      ],
      "metadata": {
        "colab": {
          "base_uri": "https://localhost:8080/"
        },
        "id": "TXYLHtUb3gn-",
        "outputId": "246b7c75-0cac-45fe-dc68-f465d31b101c"
      },
      "execution_count": null,
      "outputs": [
        {
          "output_type": "stream",
          "name": "stdout",
          "text": [
            "   radius1  texture1  perimeter1   area1  smoothness1  compactness1  \\\n",
            "0    17.99     10.38      122.80  1001.0      0.11840       0.27760   \n",
            "1    20.57     17.77      132.90  1326.0      0.08474       0.07864   \n",
            "2    19.69     21.25      130.00  1203.0      0.10960       0.15990   \n",
            "3    11.42     20.38       77.58   386.1      0.14250       0.28390   \n",
            "4    20.29     14.34      135.10  1297.0      0.10030       0.13280   \n",
            "\n",
            "   concavity1  concave_points1  symmetry1  fractal_dimension1  ...  radius3  \\\n",
            "0      0.3001          0.14710     0.2419             0.07871  ...    25.38   \n",
            "1      0.0869          0.07017     0.1812             0.05667  ...    24.99   \n",
            "2      0.1974          0.12790     0.2069             0.05999  ...    23.57   \n",
            "3      0.2414          0.10520     0.2597             0.09744  ...    14.91   \n",
            "4      0.1980          0.10430     0.1809             0.05883  ...    22.54   \n",
            "\n",
            "   texture3  perimeter3   area3  smoothness3  compactness3  concavity3  \\\n",
            "0     17.33      184.60  2019.0       0.1622        0.6656      0.7119   \n",
            "1     23.41      158.80  1956.0       0.1238        0.1866      0.2416   \n",
            "2     25.53      152.50  1709.0       0.1444        0.4245      0.4504   \n",
            "3     26.50       98.87   567.7       0.2098        0.8663      0.6869   \n",
            "4     16.67      152.20  1575.0       0.1374        0.2050      0.4000   \n",
            "\n",
            "   concave_points3  symmetry3  fractal_dimension3  \n",
            "0           0.2654     0.4601             0.11890  \n",
            "1           0.1860     0.2750             0.08902  \n",
            "2           0.2430     0.3613             0.08758  \n",
            "3           0.2575     0.6638             0.17300  \n",
            "4           0.1625     0.2364             0.07678  \n",
            "\n",
            "[5 rows x 30 columns]\n",
            "  Diagnosis\n",
            "0         M\n",
            "1         M\n",
            "2         M\n",
            "3         M\n",
            "4         M\n"
          ]
        }
      ]
    },
    {
      "cell_type": "markdown",
      "source": [
        "Features should be numerical, and the target variable should be categorical."
      ],
      "metadata": {
        "id": "Vm0M1ev73mU8"
      }
    },
    {
      "cell_type": "code",
      "source": [
        "\n",
        "columns = list(X.columns) + ['Diagnosis']\n",
        "df = pd.concat([X, y], axis=1)\n",
        "df = df[columns]\n",
        "\n",
        "print(df.head())\n"
      ],
      "metadata": {
        "colab": {
          "base_uri": "https://localhost:8080/"
        },
        "id": "tG_ZJa6I3tMI",
        "outputId": "6eb2037c-f3f4-44b7-8752-234bbdcf3916"
      },
      "execution_count": null,
      "outputs": [
        {
          "output_type": "stream",
          "name": "stdout",
          "text": [
            "   radius1  texture1  perimeter1   area1  smoothness1  compactness1  \\\n",
            "0    17.99     10.38      122.80  1001.0      0.11840       0.27760   \n",
            "1    20.57     17.77      132.90  1326.0      0.08474       0.07864   \n",
            "2    19.69     21.25      130.00  1203.0      0.10960       0.15990   \n",
            "3    11.42     20.38       77.58   386.1      0.14250       0.28390   \n",
            "4    20.29     14.34      135.10  1297.0      0.10030       0.13280   \n",
            "\n",
            "   concavity1  concave_points1  symmetry1  fractal_dimension1  ...  texture3  \\\n",
            "0      0.3001          0.14710     0.2419             0.07871  ...     17.33   \n",
            "1      0.0869          0.07017     0.1812             0.05667  ...     23.41   \n",
            "2      0.1974          0.12790     0.2069             0.05999  ...     25.53   \n",
            "3      0.2414          0.10520     0.2597             0.09744  ...     26.50   \n",
            "4      0.1980          0.10430     0.1809             0.05883  ...     16.67   \n",
            "\n",
            "   perimeter3   area3  smoothness3  compactness3  concavity3  concave_points3  \\\n",
            "0      184.60  2019.0       0.1622        0.6656      0.7119           0.2654   \n",
            "1      158.80  1956.0       0.1238        0.1866      0.2416           0.1860   \n",
            "2      152.50  1709.0       0.1444        0.4245      0.4504           0.2430   \n",
            "3       98.87   567.7       0.2098        0.8663      0.6869           0.2575   \n",
            "4      152.20  1575.0       0.1374        0.2050      0.4000           0.1625   \n",
            "\n",
            "   symmetry3  fractal_dimension3  Diagnosis  \n",
            "0     0.4601             0.11890          M  \n",
            "1     0.2750             0.08902          M  \n",
            "2     0.3613             0.08758          M  \n",
            "3     0.6638             0.17300          M  \n",
            "4     0.2364             0.07678          M  \n",
            "\n",
            "[5 rows x 31 columns]\n"
          ]
        }
      ]
    },
    {
      "cell_type": "markdown",
      "source": [
        "Now, the last column is Diagnosis (target variable), and the other 30 columns are the features."
      ],
      "metadata": {
        "id": "QILjr6-f309I"
      }
    },
    {
      "cell_type": "markdown",
      "source": [
        "Splitting the Dataset into Training and Testing Sets"
      ],
      "metadata": {
        "id": "GdbsFl_538oo"
      }
    },
    {
      "cell_type": "code",
      "source": [
        "from sklearn.model_selection import train_test_split\n",
        "\n",
        "\n",
        "X_train, X_test, y_train, y_test = train_test_split(X, y, test_size=0.3, random_state=42)\n",
        "\n",
        "\n",
        "print(f\"Training set size: {X_train.shape[0]} samples\")\n",
        "print(f\"Test set size: {X_test.shape[0]} samples\")\n",
        "\n",
        "y_train_numeric = np.where(y_train == 'M', 1, 0)\n",
        "y_test_numeric = np.where(y_test == 'M', 1, 0)\n",
        "\n",
        "X_train_bias = np.c_[np.ones((X_train.shape[0], 1)), X_train]\n",
        "X_test_bias = np.c_[np.ones((X_test.shape[0], 1)), X_test]"
      ],
      "metadata": {
        "colab": {
          "base_uri": "https://localhost:8080/"
        },
        "id": "KptS1tvM3-We",
        "outputId": "a9004494-d649-4639-90dd-5a38d0c3cbd9"
      },
      "execution_count": null,
      "outputs": [
        {
          "output_type": "stream",
          "name": "stdout",
          "text": [
            "Training set size: 398 samples\n",
            "Test set size: 171 samples\n"
          ]
        }
      ]
    },
    {
      "cell_type": "markdown",
      "source": [
        "Setting random_state=42 ensures that the data split is reproducible each time the code is run."
      ],
      "metadata": {
        "id": "PZU1Won84GEI"
      }
    },
    {
      "cell_type": "markdown",
      "source": [
        "Logistic Regression is used for classification problems, where the target variable is categorical (like \"Malignant\" or \"Benign\")"
      ],
      "metadata": {
        "id": "4_7_9fnW940y"
      }
    },
    {
      "cell_type": "markdown",
      "source": [
        "Breast Cancer dataset is a binary classification problem, Logistic Regression is the correct choice for modeling."
      ],
      "metadata": {
        "id": "IC3AZBnK9__r"
      }
    },
    {
      "cell_type": "code",
      "source": [
        "def sigmoid(z):\n",
        "\n",
        "    return 1 / (1 + np.exp(-z))\n",
        "\n",
        "def sigmoid_clipped(z):\n",
        "    return np.clip(1 / (1 + np.exp(-z)), 1e-10, 1 - 1e-10)\n",
        "\n",
        "\n",
        "    #we can clip the output of the sigmoid function to ensure it never reaches exactly 0 or 1. This helps avoid taking the log of zero\n"
      ],
      "metadata": {
        "id": "KxF53oOhAb8I"
      },
      "execution_count": null,
      "outputs": []
    },
    {
      "cell_type": "markdown",
      "source": [
        "we use cross-entropy loss (log loss) as the cost function\n",
        "\n",
        " we need to handle situations where the sigmoid function might produce values exactly equal to 0 or 1. This can be done by clipping h values before calculating the log loss."
      ],
      "metadata": {
        "id": "G9JNr2HdAutt"
      }
    },
    {
      "cell_type": "code",
      "source": [
        "def compute_cost(X, y, theta):\n",
        "    m = len(y)\n",
        "    h = sigmoid(np.dot(X, theta))\n",
        "    h = np.clip(h, 1e-10, 1 - 1e-10)\n",
        "    cost = (1/m) * np.sum(-y * np.log(h) - (1 - y) * np.log(1 - h))\n",
        "    return cost\n"
      ],
      "metadata": {
        "id": "A0wFwkOFAwpL"
      },
      "execution_count": null,
      "outputs": []
    },
    {
      "cell_type": "markdown",
      "source": [
        "We will use gradient descent to minimize the cost function and optimize the weights (theta)\n",
        "\n",
        "add L2 regularization to the cost function.\n",
        "\n",
        " Regularization adds a penalty term to the cost function to prevent weights from growing too large, which can help stabilize the training process"
      ],
      "metadata": {
        "id": "Y3r9oYw8A8BP"
      }
    },
    {
      "cell_type": "code",
      "source": [
        "def gradient_descent(X, y, theta, learning_rate, num_iterations):\n",
        "    m = len(y)\n",
        "    cost_history = []\n",
        "    for _ in range(num_iterations):\n",
        "        gradients = (1/m) * np.dot(X.T, (sigmoid(np.dot(X, theta)) - y))\n",
        "        theta -= learning_rate * gradients\n",
        "        cost_history.append(compute_cost(X, y, theta))\n",
        "    return theta, cost_history\n"
      ],
      "metadata": {
        "id": "zOLXQz5RA9Ym"
      },
      "execution_count": null,
      "outputs": []
    },
    {
      "cell_type": "markdown",
      "source": [
        "To train the logistic regression model, we will add a bias column (a column of ones) to the feature matrix X and then apply gradient descent to learn the optimal weights"
      ],
      "metadata": {
        "id": "CgFfrBXuBHxB"
      }
    },
    {
      "cell_type": "code",
      "source": [
        "def train_logistic_regression(X, y, learning_rate=0.01, num_iterations=1000):\n",
        "    theta = np.zeros(X.shape[1])\n",
        "    theta_optimal, cost_history = gradient_descent(X, y, theta, learning_rate, num_iterations)\n",
        "    return theta_optimal, cost_history\n",
        "\n"
      ],
      "metadata": {
        "id": "ek3Huj1zBJoZ"
      },
      "execution_count": null,
      "outputs": []
    },
    {
      "cell_type": "code",
      "source": [
        "print(f\"Shape of X_train_bias: {X_train_bias.shape}\")\n",
        "print(f\"Shape of y_train_numeric: {y_train_numeric.shape}\")"
      ],
      "metadata": {
        "colab": {
          "base_uri": "https://localhost:8080/"
        },
        "id": "HPdY0YdsFsJF",
        "outputId": "6297352e-01bc-497f-fa4e-4e07158d172c"
      },
      "execution_count": null,
      "outputs": [
        {
          "output_type": "stream",
          "name": "stdout",
          "text": [
            "Shape of X_train_bias: (398, 31)\n",
            "Shape of y_train_numeric: (398, 1)\n"
          ]
        }
      ]
    },
    {
      "cell_type": "markdown",
      "source": [
        "train the model"
      ],
      "metadata": {
        "id": "X130W-2zFQ-u"
      }
    },
    {
      "cell_type": "code",
      "source": [
        "y_train_numeric = np.ravel(y_train_numeric)\n",
        "y_test_numeric = np.ravel(y_test_numeric)"
      ],
      "metadata": {
        "id": "pymb7VwrJRdo"
      },
      "execution_count": null,
      "outputs": []
    },
    {
      "cell_type": "code",
      "source": [
        "theta_optimal, cost_history = train_logistic_regression(X_train_bias, y_train_numeric, learning_rate=0.001, num_iterations=1000)\n"
      ],
      "metadata": {
        "colab": {
          "base_uri": "https://localhost:8080/"
        },
        "id": "4sky4UuTGyXK",
        "outputId": "2e51fe7c-e284-48a3-acee-7636c0aad387"
      },
      "execution_count": null,
      "outputs": [
        {
          "output_type": "stream",
          "name": "stderr",
          "text": [
            "<ipython-input-100-849beaf49548>:3: RuntimeWarning: overflow encountered in exp\n",
            "  return 1 / (1 + np.exp(-z))\n"
          ]
        }
      ]
    },
    {
      "cell_type": "markdown",
      "source": [
        "We’ll classify the output as Malignant (M) if the probability is greater than 0.5, and Benign (B) otherwise"
      ],
      "metadata": {
        "id": "5PzlOSYWBS2_"
      }
    },
    {
      "cell_type": "code",
      "source": [
        "def predict(X, theta):\n",
        "    predictions = sigmoid(np.dot(X, theta))\n",
        "    return [1 if prob >= 0.5 else 0 for prob in predictions]\n"
      ],
      "metadata": {
        "id": "pFbNOr_zBUjX"
      },
      "execution_count": null,
      "outputs": []
    },
    {
      "cell_type": "code",
      "source": [
        "predictions = predict(X_test_bias, theta_optimal)\n",
        "print(predictions)"
      ],
      "metadata": {
        "colab": {
          "base_uri": "https://localhost:8080/"
        },
        "id": "iNWm3wy1HWUe",
        "outputId": "75d1845f-4cff-471d-edf5-5a633c0722c6"
      },
      "execution_count": null,
      "outputs": [
        {
          "output_type": "stream",
          "name": "stdout",
          "text": [
            "[1, 1, 1, 0, 0, 1, 1, 1, 0, 0, 0, 1, 0, 1, 0, 1, 0, 0, 0, 1, 1, 0, 1, 0, 0, 0, 0, 0, 0, 1, 0, 0, 0, 1, 0, 0, 1, 0, 1, 1, 0, 1, 0, 0, 0, 0, 0, 0, 0, 0, 1, 1, 0, 0, 0, 0, 0, 1, 0, 0, 0, 1, 1, 0, 0, 0, 1, 1, 0, 0, 1, 1, 0, 1, 0, 0, 0, 1, 0, 0, 1, 0, 1, 1, 1, 1, 1, 1, 0, 0, 0, 0, 1, 0, 0, 0, 1, 1, 0, 1, 1, 0, 1, 1, 0, 0, 0, 1, 0, 1, 1, 0, 0, 1, 0, 1, 0, 0, 0, 1, 1, 0, 0, 1, 0, 1, 1, 0, 0, 1, 1, 0, 1, 0, 1, 1, 0, 0, 1, 1, 0, 1, 0, 0, 1, 0, 1, 1, 1, 0, 1, 0, 0, 0, 0, 1, 1, 0, 0, 0, 0, 0, 0, 0, 1, 0, 0, 1, 0, 1, 0]\n"
          ]
        }
      ]
    },
    {
      "cell_type": "markdown",
      "source": [
        "A confusion matrix to check how the model is classifying the Malignant (M) and Benign (B) classes"
      ],
      "metadata": {
        "id": "-ZfRCIrTKM8I"
      }
    },
    {
      "cell_type": "code",
      "source": [
        "from sklearn.metrics import confusion_matrix\n",
        "cm = confusion_matrix(y_test_numeric, predictions)\n",
        "print(f\"Confusion Matrix:\\n{cm}\")\n"
      ],
      "metadata": {
        "colab": {
          "base_uri": "https://localhost:8080/"
        },
        "id": "N_-9ZesZKSMD",
        "outputId": "4c5a628e-0214-46c2-9371-ed4c792bb5dd"
      },
      "execution_count": null,
      "outputs": [
        {
          "output_type": "stream",
          "name": "stdout",
          "text": [
            "Confusion Matrix:\n",
            "[[98 10]\n",
            " [ 2 61]]\n"
          ]
        }
      ]
    },
    {
      "cell_type": "markdown",
      "source": [
        "Benign (0) Malignant (1)\n",
        "98 (TN) 10 (FP)  2 (FN) 61 (TP)\n",
        "Since the first row in the confusion matrix corresponds to actual class 0 (Benign), the first value (98) represents True Negatives\n",
        "TN = 98 (Correctly predicted as Benign)\n",
        "FP = 10 (Incorrectly predicted as Malignant)\n",
        "FN = 2 (Incorrectly predicted as Benign)\n",
        "TP = 61 (Correctly predicted as Malignant)"
      ],
      "metadata": {
        "id": "8pH4vzvKKm9g"
      }
    },
    {
      "cell_type": "code",
      "source": [
        "accuracy = np.mean(predictions == y_test_numeric)\n",
        "print(f\"Accuracy on test set: {accuracy * 100:.2f}%\")"
      ],
      "metadata": {
        "id": "ldThxbo5Meyd",
        "outputId": "a2f0ccf9-a43e-4ea6-9ab6-5cd9201d0446",
        "colab": {
          "base_uri": "https://localhost:8080/"
        }
      },
      "execution_count": null,
      "outputs": [
        {
          "output_type": "stream",
          "name": "stdout",
          "text": [
            "Accuracy on test set: 92.98%\n"
          ]
        }
      ]
    }
  ]
}